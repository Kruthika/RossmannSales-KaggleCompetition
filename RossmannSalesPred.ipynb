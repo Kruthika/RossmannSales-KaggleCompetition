{
 "cells": [
  {
   "cell_type": "code",
   "execution_count": 131,
   "metadata": {
    "collapsed": true
   },
   "outputs": [],
   "source": [
    "import pandas as pd\n",
    "import numpy as np\n",
    "import matplotlib.pyplot as plt\n",
    "import seaborn as sns\n",
    "from datetime import datetime\n",
    "%matplotlib inline"
   ]
  },
  {
   "cell_type": "code",
   "execution_count": 43,
   "metadata": {
    "collapsed": false
   },
   "outputs": [
    {
     "data": {
      "text/plain": [
       "Store            0\n",
       "DayOfWeek        0\n",
       "Date             0\n",
       "Sales            0\n",
       "Customers        0\n",
       "Open             0\n",
       "Promo            0\n",
       "StateHoliday     0\n",
       "SchoolHoliday    0\n",
       "dtype: int64"
      ]
     },
     "execution_count": 43,
     "metadata": {},
     "output_type": "execute_result"
    }
   ],
   "source": [
    "#Obtain sales, store data\n",
    "trainingData = pd.read_csv('train.csv', sep=',', low_memory=False)\n",
    "stores = pd.read_csv('store.csv',sep=',', low_memory=False)\n",
    "stores.shape\n",
    "#Checking for missing values in train data\n",
    "trainingData.isnull().sum()"
   ]
  },
  {
   "cell_type": "code",
   "execution_count": 77,
   "metadata": {
    "collapsed": false
   },
   "outputs": [
    {
     "data": {
      "text/html": [
       "<div>\n",
       "<table border=\"1\" class=\"dataframe\">\n",
       "  <thead>\n",
       "    <tr style=\"text-align: right;\">\n",
       "      <th></th>\n",
       "      <th>Open</th>\n",
       "      <th>Sales</th>\n",
       "    </tr>\n",
       "    <tr>\n",
       "      <th>Customers</th>\n",
       "      <th></th>\n",
       "      <th></th>\n",
       "    </tr>\n",
       "  </thead>\n",
       "  <tbody>\n",
       "    <tr>\n",
       "      <th>0</th>\n",
       "      <td>52</td>\n",
       "      <td>0</td>\n",
       "    </tr>\n",
       "    <tr>\n",
       "      <th>3</th>\n",
       "      <td>1</td>\n",
       "      <td>0</td>\n",
       "    </tr>\n",
       "    <tr>\n",
       "      <th>5</th>\n",
       "      <td>1</td>\n",
       "      <td>0</td>\n",
       "    </tr>\n",
       "    <tr>\n",
       "      <th>8</th>\n",
       "      <td>1</td>\n",
       "      <td>46</td>\n",
       "    </tr>\n",
       "    <tr>\n",
       "      <th>13</th>\n",
       "      <td>1</td>\n",
       "      <td>124</td>\n",
       "    </tr>\n",
       "    <tr>\n",
       "      <th>18</th>\n",
       "      <td>1</td>\n",
       "      <td>133</td>\n",
       "    </tr>\n",
       "    <tr>\n",
       "      <th>36</th>\n",
       "      <td>1</td>\n",
       "      <td>297</td>\n",
       "    </tr>\n",
       "    <tr>\n",
       "      <th>40</th>\n",
       "      <td>1</td>\n",
       "      <td>286</td>\n",
       "    </tr>\n",
       "    <tr>\n",
       "      <th>44</th>\n",
       "      <td>1</td>\n",
       "      <td>316</td>\n",
       "    </tr>\n",
       "    <tr>\n",
       "      <th>50</th>\n",
       "      <td>1</td>\n",
       "      <td>416</td>\n",
       "    </tr>\n",
       "    <tr>\n",
       "      <th>60</th>\n",
       "      <td>1</td>\n",
       "      <td>506</td>\n",
       "    </tr>\n",
       "    <tr>\n",
       "      <th>61</th>\n",
       "      <td>1</td>\n",
       "      <td>680</td>\n",
       "    </tr>\n",
       "    <tr>\n",
       "      <th>64</th>\n",
       "      <td>2</td>\n",
       "      <td>1157</td>\n",
       "    </tr>\n",
       "    <tr>\n",
       "      <th>67</th>\n",
       "      <td>1</td>\n",
       "      <td>649</td>\n",
       "    </tr>\n",
       "    <tr>\n",
       "      <th>68</th>\n",
       "      <td>1</td>\n",
       "      <td>775</td>\n",
       "    </tr>\n",
       "    <tr>\n",
       "      <th>74</th>\n",
       "      <td>1</td>\n",
       "      <td>749</td>\n",
       "    </tr>\n",
       "    <tr>\n",
       "      <th>75</th>\n",
       "      <td>2</td>\n",
       "      <td>1137</td>\n",
       "    </tr>\n",
       "    <tr>\n",
       "      <th>77</th>\n",
       "      <td>1</td>\n",
       "      <td>538</td>\n",
       "    </tr>\n",
       "    <tr>\n",
       "      <th>78</th>\n",
       "      <td>3</td>\n",
       "      <td>1742</td>\n",
       "    </tr>\n",
       "    <tr>\n",
       "      <th>80</th>\n",
       "      <td>2</td>\n",
       "      <td>1447</td>\n",
       "    </tr>\n",
       "    <tr>\n",
       "      <th>81</th>\n",
       "      <td>1</td>\n",
       "      <td>699</td>\n",
       "    </tr>\n",
       "    <tr>\n",
       "      <th>82</th>\n",
       "      <td>4</td>\n",
       "      <td>2758</td>\n",
       "    </tr>\n",
       "    <tr>\n",
       "      <th>83</th>\n",
       "      <td>3</td>\n",
       "      <td>1930</td>\n",
       "    </tr>\n",
       "    <tr>\n",
       "      <th>84</th>\n",
       "      <td>1</td>\n",
       "      <td>663</td>\n",
       "    </tr>\n",
       "    <tr>\n",
       "      <th>85</th>\n",
       "      <td>1</td>\n",
       "      <td>520</td>\n",
       "    </tr>\n",
       "    <tr>\n",
       "      <th>86</th>\n",
       "      <td>1</td>\n",
       "      <td>600</td>\n",
       "    </tr>\n",
       "    <tr>\n",
       "      <th>87</th>\n",
       "      <td>1</td>\n",
       "      <td>761</td>\n",
       "    </tr>\n",
       "    <tr>\n",
       "      <th>88</th>\n",
       "      <td>3</td>\n",
       "      <td>2346</td>\n",
       "    </tr>\n",
       "    <tr>\n",
       "      <th>89</th>\n",
       "      <td>1</td>\n",
       "      <td>541</td>\n",
       "    </tr>\n",
       "    <tr>\n",
       "      <th>90</th>\n",
       "      <td>2</td>\n",
       "      <td>1204</td>\n",
       "    </tr>\n",
       "    <tr>\n",
       "      <th>...</th>\n",
       "      <td>...</td>\n",
       "      <td>...</td>\n",
       "    </tr>\n",
       "    <tr>\n",
       "      <th>4855</th>\n",
       "      <td>1</td>\n",
       "      <td>29526</td>\n",
       "    </tr>\n",
       "    <tr>\n",
       "      <th>4894</th>\n",
       "      <td>1</td>\n",
       "      <td>34904</td>\n",
       "    </tr>\n",
       "    <tr>\n",
       "      <th>4911</th>\n",
       "      <td>1</td>\n",
       "      <td>35697</td>\n",
       "    </tr>\n",
       "    <tr>\n",
       "      <th>4914</th>\n",
       "      <td>1</td>\n",
       "      <td>28213</td>\n",
       "    </tr>\n",
       "    <tr>\n",
       "      <th>4916</th>\n",
       "      <td>1</td>\n",
       "      <td>37376</td>\n",
       "    </tr>\n",
       "    <tr>\n",
       "      <th>4920</th>\n",
       "      <td>1</td>\n",
       "      <td>30097</td>\n",
       "    </tr>\n",
       "    <tr>\n",
       "      <th>4925</th>\n",
       "      <td>1</td>\n",
       "      <td>34369</td>\n",
       "    </tr>\n",
       "    <tr>\n",
       "      <th>4931</th>\n",
       "      <td>1</td>\n",
       "      <td>34814</td>\n",
       "    </tr>\n",
       "    <tr>\n",
       "      <th>4962</th>\n",
       "      <td>1</td>\n",
       "      <td>37122</td>\n",
       "    </tr>\n",
       "    <tr>\n",
       "      <th>4985</th>\n",
       "      <td>1</td>\n",
       "      <td>30978</td>\n",
       "    </tr>\n",
       "    <tr>\n",
       "      <th>4989</th>\n",
       "      <td>1</td>\n",
       "      <td>35159</td>\n",
       "    </tr>\n",
       "    <tr>\n",
       "      <th>5013</th>\n",
       "      <td>1</td>\n",
       "      <td>33326</td>\n",
       "    </tr>\n",
       "    <tr>\n",
       "      <th>5014</th>\n",
       "      <td>1</td>\n",
       "      <td>32605</td>\n",
       "    </tr>\n",
       "    <tr>\n",
       "      <th>5024</th>\n",
       "      <td>1</td>\n",
       "      <td>33357</td>\n",
       "    </tr>\n",
       "    <tr>\n",
       "      <th>5028</th>\n",
       "      <td>1</td>\n",
       "      <td>30848</td>\n",
       "    </tr>\n",
       "    <tr>\n",
       "      <th>5034</th>\n",
       "      <td>1</td>\n",
       "      <td>32347</td>\n",
       "    </tr>\n",
       "    <tr>\n",
       "      <th>5063</th>\n",
       "      <td>1</td>\n",
       "      <td>35909</td>\n",
       "    </tr>\n",
       "    <tr>\n",
       "      <th>5069</th>\n",
       "      <td>1</td>\n",
       "      <td>36227</td>\n",
       "    </tr>\n",
       "    <tr>\n",
       "      <th>5090</th>\n",
       "      <td>1</td>\n",
       "      <td>34133</td>\n",
       "    </tr>\n",
       "    <tr>\n",
       "      <th>5106</th>\n",
       "      <td>1</td>\n",
       "      <td>33151</td>\n",
       "    </tr>\n",
       "    <tr>\n",
       "      <th>5112</th>\n",
       "      <td>1</td>\n",
       "      <td>32252</td>\n",
       "    </tr>\n",
       "    <tr>\n",
       "      <th>5132</th>\n",
       "      <td>1</td>\n",
       "      <td>38722</td>\n",
       "    </tr>\n",
       "    <tr>\n",
       "      <th>5145</th>\n",
       "      <td>1</td>\n",
       "      <td>32926</td>\n",
       "    </tr>\n",
       "    <tr>\n",
       "      <th>5152</th>\n",
       "      <td>1</td>\n",
       "      <td>33655</td>\n",
       "    </tr>\n",
       "    <tr>\n",
       "      <th>5192</th>\n",
       "      <td>1</td>\n",
       "      <td>38367</td>\n",
       "    </tr>\n",
       "    <tr>\n",
       "      <th>5297</th>\n",
       "      <td>1</td>\n",
       "      <td>37403</td>\n",
       "    </tr>\n",
       "    <tr>\n",
       "      <th>5387</th>\n",
       "      <td>1</td>\n",
       "      <td>34692</td>\n",
       "    </tr>\n",
       "    <tr>\n",
       "      <th>5458</th>\n",
       "      <td>1</td>\n",
       "      <td>38484</td>\n",
       "    </tr>\n",
       "    <tr>\n",
       "      <th>5494</th>\n",
       "      <td>1</td>\n",
       "      <td>35702</td>\n",
       "    </tr>\n",
       "    <tr>\n",
       "      <th>7388</th>\n",
       "      <td>1</td>\n",
       "      <td>27190</td>\n",
       "    </tr>\n",
       "  </tbody>\n",
       "</table>\n",
       "<p>4086 rows × 2 columns</p>\n",
       "</div>"
      ],
      "text/plain": [
       "           Open  Sales\n",
       "Customers             \n",
       "0            52      0\n",
       "3             1      0\n",
       "5             1      0\n",
       "8             1     46\n",
       "13            1    124\n",
       "18            1    133\n",
       "36            1    297\n",
       "40            1    286\n",
       "44            1    316\n",
       "50            1    416\n",
       "60            1    506\n",
       "61            1    680\n",
       "64            2   1157\n",
       "67            1    649\n",
       "68            1    775\n",
       "74            1    749\n",
       "75            2   1137\n",
       "77            1    538\n",
       "78            3   1742\n",
       "80            2   1447\n",
       "81            1    699\n",
       "82            4   2758\n",
       "83            3   1930\n",
       "84            1    663\n",
       "85            1    520\n",
       "86            1    600\n",
       "87            1    761\n",
       "88            3   2346\n",
       "89            1    541\n",
       "90            2   1204\n",
       "...         ...    ...\n",
       "4855          1  29526\n",
       "4894          1  34904\n",
       "4911          1  35697\n",
       "4914          1  28213\n",
       "4916          1  37376\n",
       "4920          1  30097\n",
       "4925          1  34369\n",
       "4931          1  34814\n",
       "4962          1  37122\n",
       "4985          1  30978\n",
       "4989          1  35159\n",
       "5013          1  33326\n",
       "5014          1  32605\n",
       "5024          1  33357\n",
       "5028          1  30848\n",
       "5034          1  32347\n",
       "5063          1  35909\n",
       "5069          1  36227\n",
       "5090          1  34133\n",
       "5106          1  33151\n",
       "5112          1  32252\n",
       "5132          1  38722\n",
       "5145          1  32926\n",
       "5152          1  33655\n",
       "5192          1  38367\n",
       "5297          1  37403\n",
       "5387          1  34692\n",
       "5458          1  38484\n",
       "5494          1  35702\n",
       "7388          1  27190\n",
       "\n",
       "[4086 rows x 2 columns]"
      ]
     },
     "execution_count": 77,
     "metadata": {},
     "output_type": "execute_result"
    }
   ],
   "source": [
    "#Check for stores that are open without any sales and customers\n",
    "trainingData.groupby(['Customers']).agg({'Sales': np.sum, 'Open': np.sum})"
   ]
  },
  {
   "cell_type": "code",
   "execution_count": 44,
   "metadata": {
    "collapsed": true
   },
   "outputs": [],
   "source": [
    "#Assume closed stores to be open and fill 1 for zero sales\n",
    "trainingData.loc[trainingData.Open.isnull(), 'Open'] = 1\n",
    "trainingData.loc[trainingData.Sales.isnull(), 'Sales'] = 1"
   ]
  },
  {
   "cell_type": "code",
   "execution_count": 45,
   "metadata": {
    "collapsed": false
   },
   "outputs": [
    {
     "data": {
      "text/plain": [
       "Store                          0\n",
       "StoreType                      0\n",
       "Assortment                     0\n",
       "CompetitionDistance            3\n",
       "CompetitionOpenSinceMonth    354\n",
       "CompetitionOpenSinceYear     354\n",
       "Promo2                         0\n",
       "Promo2SinceWeek              544\n",
       "Promo2SinceYear              544\n",
       "PromoInterval                544\n",
       "dtype: int64"
      ]
     },
     "execution_count": 45,
     "metadata": {},
     "output_type": "execute_result"
    }
   ],
   "source": [
    "#Check for missing values in store data\n",
    "stores.isnull().sum()"
   ]
  },
  {
   "cell_type": "code",
   "execution_count": 46,
   "metadata": {
    "collapsed": false
   },
   "outputs": [
    {
     "data": {
      "text/html": [
       "<div>\n",
       "<table border=\"1\" class=\"dataframe\">\n",
       "  <thead>\n",
       "    <tr style=\"text-align: right;\">\n",
       "      <th></th>\n",
       "      <th>max</th>\n",
       "      <th>min</th>\n",
       "      <th>count</th>\n",
       "    </tr>\n",
       "    <tr>\n",
       "      <th>CompetitionOpenSinceYear</th>\n",
       "      <th></th>\n",
       "      <th></th>\n",
       "      <th></th>\n",
       "    </tr>\n",
       "  </thead>\n",
       "  <tbody>\n",
       "    <tr>\n",
       "      <th>1900</th>\n",
       "      <td>1</td>\n",
       "      <td>1</td>\n",
       "      <td>1</td>\n",
       "    </tr>\n",
       "    <tr>\n",
       "      <th>1961</th>\n",
       "      <td>10</td>\n",
       "      <td>10</td>\n",
       "      <td>1</td>\n",
       "    </tr>\n",
       "    <tr>\n",
       "      <th>1990</th>\n",
       "      <td>7</td>\n",
       "      <td>6</td>\n",
       "      <td>5</td>\n",
       "    </tr>\n",
       "    <tr>\n",
       "      <th>1994</th>\n",
       "      <td>11</td>\n",
       "      <td>11</td>\n",
       "      <td>2</td>\n",
       "    </tr>\n",
       "    <tr>\n",
       "      <th>1995</th>\n",
       "      <td>11</td>\n",
       "      <td>10</td>\n",
       "      <td>2</td>\n",
       "    </tr>\n",
       "    <tr>\n",
       "      <th>1998</th>\n",
       "      <td>7</td>\n",
       "      <td>7</td>\n",
       "      <td>1</td>\n",
       "    </tr>\n",
       "    <tr>\n",
       "      <th>1999</th>\n",
       "      <td>12</td>\n",
       "      <td>5</td>\n",
       "      <td>8</td>\n",
       "    </tr>\n",
       "    <tr>\n",
       "      <th>2000</th>\n",
       "      <td>11</td>\n",
       "      <td>3</td>\n",
       "      <td>10</td>\n",
       "    </tr>\n",
       "    <tr>\n",
       "      <th>2001</th>\n",
       "      <td>12</td>\n",
       "      <td>3</td>\n",
       "      <td>16</td>\n",
       "    </tr>\n",
       "    <tr>\n",
       "      <th>2002</th>\n",
       "      <td>12</td>\n",
       "      <td>2</td>\n",
       "      <td>27</td>\n",
       "    </tr>\n",
       "    <tr>\n",
       "      <th>2003</th>\n",
       "      <td>12</td>\n",
       "      <td>3</td>\n",
       "      <td>19</td>\n",
       "    </tr>\n",
       "    <tr>\n",
       "      <th>2004</th>\n",
       "      <td>12</td>\n",
       "      <td>2</td>\n",
       "      <td>22</td>\n",
       "    </tr>\n",
       "    <tr>\n",
       "      <th>2005</th>\n",
       "      <td>12</td>\n",
       "      <td>1</td>\n",
       "      <td>62</td>\n",
       "    </tr>\n",
       "    <tr>\n",
       "      <th>2006</th>\n",
       "      <td>12</td>\n",
       "      <td>1</td>\n",
       "      <td>47</td>\n",
       "    </tr>\n",
       "    <tr>\n",
       "      <th>2007</th>\n",
       "      <td>12</td>\n",
       "      <td>1</td>\n",
       "      <td>48</td>\n",
       "    </tr>\n",
       "    <tr>\n",
       "      <th>2008</th>\n",
       "      <td>12</td>\n",
       "      <td>1</td>\n",
       "      <td>54</td>\n",
       "    </tr>\n",
       "    <tr>\n",
       "      <th>2009</th>\n",
       "      <td>12</td>\n",
       "      <td>2</td>\n",
       "      <td>54</td>\n",
       "    </tr>\n",
       "    <tr>\n",
       "      <th>2010</th>\n",
       "      <td>12</td>\n",
       "      <td>2</td>\n",
       "      <td>55</td>\n",
       "    </tr>\n",
       "    <tr>\n",
       "      <th>2011</th>\n",
       "      <td>12</td>\n",
       "      <td>1</td>\n",
       "      <td>54</td>\n",
       "    </tr>\n",
       "    <tr>\n",
       "      <th>2012</th>\n",
       "      <td>12</td>\n",
       "      <td>1</td>\n",
       "      <td>82</td>\n",
       "    </tr>\n",
       "    <tr>\n",
       "      <th>2013</th>\n",
       "      <td>12</td>\n",
       "      <td>2</td>\n",
       "      <td>83</td>\n",
       "    </tr>\n",
       "    <tr>\n",
       "      <th>2014</th>\n",
       "      <td>12</td>\n",
       "      <td>1</td>\n",
       "      <td>70</td>\n",
       "    </tr>\n",
       "    <tr>\n",
       "      <th>2015</th>\n",
       "      <td>8</td>\n",
       "      <td>1</td>\n",
       "      <td>38</td>\n",
       "    </tr>\n",
       "  </tbody>\n",
       "</table>\n",
       "</div>"
      ],
      "text/plain": [
       "                          max  min  count\n",
       "CompetitionOpenSinceYear                 \n",
       "1900                        1    1      1\n",
       "1961                       10   10      1\n",
       "1990                        7    6      5\n",
       "1994                       11   11      2\n",
       "1995                       11   10      2\n",
       "1998                        7    7      1\n",
       "1999                       12    5      8\n",
       "2000                       11    3     10\n",
       "2001                       12    3     16\n",
       "2002                       12    2     27\n",
       "2003                       12    3     19\n",
       "2004                       12    2     22\n",
       "2005                       12    1     62\n",
       "2006                       12    1     47\n",
       "2007                       12    1     48\n",
       "2008                       12    1     54\n",
       "2009                       12    2     54\n",
       "2010                       12    2     55\n",
       "2011                       12    1     54\n",
       "2012                       12    1     82\n",
       "2013                       12    2     83\n",
       "2014                       12    1     70\n",
       "2015                        8    1     38"
      ]
     },
     "execution_count": 46,
     "metadata": {},
     "output_type": "execute_result"
    }
   ],
   "source": [
    "stores.groupby(['CompetitionOpenSinceYear']).CompetitionOpenSinceMonth.agg(['max','min','count'])"
   ]
  },
  {
   "cell_type": "code",
   "execution_count": 15,
   "metadata": {
    "collapsed": false
   },
   "outputs": [
    {
     "data": {
      "text/html": [
       "<div>\n",
       "<table border=\"1\" class=\"dataframe\">\n",
       "  <thead>\n",
       "    <tr style=\"text-align: right;\">\n",
       "      <th></th>\n",
       "      <th>max</th>\n",
       "      <th>min</th>\n",
       "      <th>count</th>\n",
       "    </tr>\n",
       "    <tr>\n",
       "      <th>Promo2SinceYear</th>\n",
       "      <th></th>\n",
       "      <th></th>\n",
       "      <th></th>\n",
       "    </tr>\n",
       "  </thead>\n",
       "  <tbody>\n",
       "    <tr>\n",
       "      <th>2009</th>\n",
       "      <td>45</td>\n",
       "      <td>31</td>\n",
       "      <td>73</td>\n",
       "    </tr>\n",
       "    <tr>\n",
       "      <th>2010</th>\n",
       "      <td>50</td>\n",
       "      <td>5</td>\n",
       "      <td>64</td>\n",
       "    </tr>\n",
       "    <tr>\n",
       "      <th>2011</th>\n",
       "      <td>48</td>\n",
       "      <td>5</td>\n",
       "      <td>128</td>\n",
       "    </tr>\n",
       "    <tr>\n",
       "      <th>2012</th>\n",
       "      <td>48</td>\n",
       "      <td>1</td>\n",
       "      <td>81</td>\n",
       "    </tr>\n",
       "    <tr>\n",
       "      <th>2013</th>\n",
       "      <td>45</td>\n",
       "      <td>1</td>\n",
       "      <td>120</td>\n",
       "    </tr>\n",
       "    <tr>\n",
       "      <th>2014</th>\n",
       "      <td>49</td>\n",
       "      <td>1</td>\n",
       "      <td>95</td>\n",
       "    </tr>\n",
       "    <tr>\n",
       "      <th>2015</th>\n",
       "      <td>23</td>\n",
       "      <td>6</td>\n",
       "      <td>10</td>\n",
       "    </tr>\n",
       "  </tbody>\n",
       "</table>\n",
       "</div>"
      ],
      "text/plain": [
       "                 max  min  count\n",
       "Promo2SinceYear                 \n",
       "2009              45   31     73\n",
       "2010              50    5     64\n",
       "2011              48    5    128\n",
       "2012              48    1     81\n",
       "2013              45    1    120\n",
       "2014              49    1     95\n",
       "2015              23    6     10"
      ]
     },
     "execution_count": 15,
     "metadata": {},
     "output_type": "execute_result"
    }
   ],
   "source": [
    "stores.groupby(['Promo2SinceYear']).Promo2SinceWeek.agg(['max','min','count'])"
   ]
  },
  {
   "cell_type": "code",
   "execution_count": 47,
   "metadata": {
    "collapsed": false
   },
   "outputs": [
    {
     "data": {
      "text/plain": [
       "Jan,Apr,Jul,Oct     335\n",
       "Feb,May,Aug,Nov     130\n",
       "Mar,Jun,Sept,Dec    106\n",
       "Name: PromoInterval, dtype: int64"
      ]
     },
     "execution_count": 47,
     "metadata": {},
     "output_type": "execute_result"
    }
   ],
   "source": [
    "stores.PromoInterval.value_counts()"
   ]
  },
  {
   "cell_type": "code",
   "execution_count": 48,
   "metadata": {
    "collapsed": false
   },
   "outputs": [],
   "source": [
    "#Fill in the values for CompetitionOpenSince[Year/Month] and Promo2Since[Year/Week] with most recent periods. Compute mean of \n",
    "#CompetitionDistance and fill the missing values with the mean\n",
    "stores.CompetitionOpenSinceYear.fillna(2015, inplace=True)\n",
    "stores.CompetitionOpenSinceMonth.fillna(8, inplace=True)\n",
    "stores.Promo2SinceYear.fillna(2015, inplace=True)\n",
    "stores.Promo2SinceWeek.fillna(26, inplace=True)\n",
    "stores.PromoInterval.fillna('Jan,Apr,Jul,Oct',inplace=True )\n",
    "mean_comp_distance = stores.CompetitionDistance.mean()\n",
    "stores.CompetitionDistance.fillna(mean_comp_distance, inpalce = True)"
   ]
  },
  {
   "cell_type": "code",
   "execution_count": 51,
   "metadata": {
    "collapsed": false
   },
   "outputs": [
    {
     "data": {
      "text/html": [
       "<div>\n",
       "<table border=\"1\" class=\"dataframe\">\n",
       "  <thead>\n",
       "    <tr style=\"text-align: right;\">\n",
       "      <th></th>\n",
       "      <th>Store</th>\n",
       "      <th>DayOfWeek</th>\n",
       "      <th>Date</th>\n",
       "      <th>Sales</th>\n",
       "      <th>Customers</th>\n",
       "      <th>Open</th>\n",
       "      <th>Promo</th>\n",
       "      <th>StateHoliday</th>\n",
       "      <th>SchoolHoliday</th>\n",
       "      <th>StoreType</th>\n",
       "      <th>Assortment</th>\n",
       "      <th>CompetitionDistance</th>\n",
       "      <th>CompetitionOpenSinceMonth</th>\n",
       "      <th>CompetitionOpenSinceYear</th>\n",
       "      <th>Promo2</th>\n",
       "      <th>Promo2SinceWeek</th>\n",
       "      <th>Promo2SinceYear</th>\n",
       "      <th>PromoInterval</th>\n",
       "    </tr>\n",
       "  </thead>\n",
       "  <tbody>\n",
       "    <tr>\n",
       "      <th>0</th>\n",
       "      <td>1</td>\n",
       "      <td>5</td>\n",
       "      <td>2015-07-31</td>\n",
       "      <td>5263</td>\n",
       "      <td>555</td>\n",
       "      <td>1</td>\n",
       "      <td>1</td>\n",
       "      <td>0</td>\n",
       "      <td>1</td>\n",
       "      <td>c</td>\n",
       "      <td>a</td>\n",
       "      <td>1270</td>\n",
       "      <td>9</td>\n",
       "      <td>2008</td>\n",
       "      <td>0</td>\n",
       "      <td>26</td>\n",
       "      <td>2015</td>\n",
       "      <td>Jan,Apr,Jul,Oct</td>\n",
       "    </tr>\n",
       "  </tbody>\n",
       "</table>\n",
       "</div>"
      ],
      "text/plain": [
       "   Store  DayOfWeek        Date  Sales  Customers  Open  Promo StateHoliday  \\\n",
       "0      1          5  2015-07-31   5263        555     1      1            0   \n",
       "\n",
       "   SchoolHoliday StoreType Assortment  CompetitionDistance  \\\n",
       "0              1         c          a                 1270   \n",
       "\n",
       "   CompetitionOpenSinceMonth  CompetitionOpenSinceYear  Promo2  \\\n",
       "0                          9                      2008       0   \n",
       "\n",
       "   Promo2SinceWeek  Promo2SinceYear    PromoInterval  \n",
       "0               26             2015  Jan,Apr,Jul,Oct  "
      ]
     },
     "execution_count": 51,
     "metadata": {},
     "output_type": "execute_result"
    }
   ],
   "source": [
    "#Merge train and store sets on Store\n",
    "trainingData = pd.merge(trainingData,stores,on='Store')\n",
    "trainingData.head(1)"
   ]
  },
  {
   "cell_type": "code",
   "execution_count": 122,
   "metadata": {
    "collapsed": false
   },
   "outputs": [
    {
     "data": {
      "text/plain": [
       "count    1017209.000000\n",
       "mean        5773.818972\n",
       "std         3849.926175\n",
       "min            0.000000\n",
       "25%         3727.000000\n",
       "50%         5744.000000\n",
       "75%         7856.000000\n",
       "max        41551.000000\n",
       "Name: Sales, dtype: float64"
      ]
     },
     "execution_count": 122,
     "metadata": {},
     "output_type": "execute_result"
    }
   ],
   "source": [
    "trainingData.Sales.describe()"
   ]
  },
  {
   "cell_type": "code",
   "execution_count": 94,
   "metadata": {
    "collapsed": false
   },
   "outputs": [
    {
     "data": {
      "text/plain": [
       "<matplotlib.axes._subplots.AxesSubplot at 0x14a8f550>"
      ]
     },
     "execution_count": 94,
     "metadata": {},
     "output_type": "execute_result"
    },
    {
     "data": {
      "image/png": "[encoded data removed]",
      "text/plain": [
       "<matplotlib.figure.Figure at 0x35302d70>"
      ]
     },
     "metadata": {},
     "output_type": "display_data"
    }
   ],
   "source": [
    "#Mean sales for store type and assortment\n",
    "trainingData.groupby(['StoreType', 'Assortment']).Sales.mean().plot(kind = 'bar')"
   ]
  },
  {
   "cell_type": "code",
   "execution_count": 95,
   "metadata": {
    "collapsed": false
   },
   "outputs": [
    {
     "data": {
      "text/plain": [
       "<matplotlib.axes._subplots.AxesSubplot at 0x35302cd0>"
      ]
     },
     "execution_count": 95,
     "metadata": {},
     "output_type": "execute_result"
    },
    {
     "data": {
      "image/png": "[encoded data removed]",
      "text/plain": [
       "<matplotlib.figure.Figure at 0x14baa7b0>"
      ]
     },
     "metadata": {},
     "output_type": "display_data"
    }
   ],
   "source": [
    "#Mean sales for assortment\n",
    "trainingData[['Sales', 'Assortment']].groupby('Assortment').mean().plot(kind='bar')"
   ]
  },
  {
   "cell_type": "code",
   "execution_count": 96,
   "metadata": {
    "collapsed": false
   },
   "outputs": [
    {
     "data": {
      "text/plain": [
       "<matplotlib.axes._subplots.AxesSubplot at 0x2841f7b0>"
      ]
     },
     "execution_count": 96,
     "metadata": {},
     "output_type": "execute_result"
    },
    {
     "data": {
      "image/png": "[encoded data removed]",
      "text/plain": [
       "<matplotlib.figure.Figure at 0x20e02990>"
      ]
     },
     "metadata": {},
     "output_type": "display_data"
    }
   ],
   "source": [
    "#Mean sales for storetype\n",
    "trainingData[['Sales', 'StoreType']].groupby('StoreType').mean().plot(kind='bar')"
   ]
  },
  {
   "cell_type": "code",
   "execution_count": 99,
   "metadata": {
    "collapsed": false
   },
   "outputs": [
    {
     "data": {
      "text/plain": [
       "<matplotlib.axes._subplots.AxesSubplot at 0x20f243f0>"
      ]
     },
     "execution_count": 99,
     "metadata": {},
     "output_type": "execute_result"
    },
    {
     "data": {
      "image/png": "[encoded data removed]",
      "text/plain": [
       "<matplotlib.figure.Figure at 0x20f24cd0>"
      ]
     },
     "metadata": {},
     "output_type": "display_data"
    }
   ],
   "source": [
    "#Mean sales on StateHoliday\n",
    "trainingData[['Sales', 'StateHoliday']].groupby('StateHoliday').mean().plot(kind='bar')"
   ]
  },
  {
   "cell_type": "code",
   "execution_count": 100,
   "metadata": {
    "collapsed": false
   },
   "outputs": [
    {
     "data": {
      "text/plain": [
       "<matplotlib.axes._subplots.AxesSubplot at 0x355c4e30>"
      ]
     },
     "execution_count": 100,
     "metadata": {},
     "output_type": "execute_result"
    },
    {
     "data": {
      "image/png": "[encoded data removed]",
      "text/plain": [
       "<matplotlib.figure.Figure at 0x355c46d0>"
      ]
     },
     "metadata": {},
     "output_type": "display_data"
    }
   ],
   "source": [
    "#Mean sales on SchoolHoliday\n",
    "trainingData[['Sales','SchoolHoliday']].groupby('SchoolHoliday').mean().plot(kind = 'bar')"
   ]
  },
  {
   "cell_type": "code",
   "execution_count": 106,
   "metadata": {
    "collapsed": false
   },
   "outputs": [
    {
     "data": {
      "text/plain": [
       "<matplotlib.axes._subplots.AxesSubplot at 0x28495350>"
      ]
     },
     "execution_count": 106,
     "metadata": {},
     "output_type": "execute_result"
    },
    {
     "data": {
      "image/png": "[encoded data removed]",
      "text/plain": [
       "<matplotlib.figure.Figure at 0x6e1cbd90>"
      ]
     },
     "metadata": {},
     "output_type": "display_data"
    }
   ],
   "source": [
    "#Mean sales for day of week \n",
    "trainingData.groupby(['DayOfWeek']).Sales.mean().plot(kind = 'bar')\n"
   ]
  },
  {
   "cell_type": "code",
   "execution_count": 103,
   "metadata": {
    "collapsed": false
   },
   "outputs": [
    {
     "data": {
      "text/plain": [
       "<matplotlib.axes._subplots.AxesSubplot at 0x2132d8b0>"
      ]
     },
     "execution_count": 103,
     "metadata": {},
     "output_type": "execute_result"
    },
    {
     "data": {
      "image/png": "[encoded data removed]",
      "text/plain": [
       "<matplotlib.figure.Figure at 0x6e1cb5d0>"
      ]
     },
     "metadata": {},
     "output_type": "display_data"
    }
   ],
   "source": [
    "#Mean sales for competition distance\n",
    "trainingData[['CompetitionDistance', 'Sales']].plot(kind='hist', x='CompetitionDistance', y='Sales', bins = 50)"
   ]
  },
  {
   "cell_type": "code",
   "execution_count": 62,
   "metadata": {
    "collapsed": true
   },
   "outputs": [],
   "source": [
    "# Extracting date, year, month, day of week and week of year from Date column\n",
    "trainingData['date'] = pd.to_datetime(trainingData['Date'])\n",
    "trainingData['year'] = pd.DatetimeIndex(trainingData['Date']).year\n",
    "trainingData['month'] = pd.DatetimeIndex(trainingData['Date']).month\n",
    "trainingData['DayOfWeek'] = pd.DatetimeIndex(trainingData['Date']).dayofweek\n",
    "trainingData['WeekOfYear'] = pd.DatetimeIndex(trainingData['Date']).weekofyear"
   ]
  },
  {
   "cell_type": "code",
   "execution_count": 54,
   "metadata": {
    "collapsed": true
   },
   "outputs": [],
   "source": [
    "#Map each of the variables to a number\n",
    "trainingData['StoreType'] = trainingData.StoreType.map({'a':0, 'b':1, 'c':2, 'd':3})\n",
    "trainingData['Assortment'] = trainingData.Assortment.map({'a':0, 'b':1, 'c':2})\n",
    "trainingData['StateHoliday'] =trainingData.StateHoliday.map({'a':0, 'b':1, 'c':2, '0':0})\n",
    "trainingData['PromoInterval'] = trainingData.PromoInterval.map({'Jan, Apr,Jul, Oct':1, 'Feb,May,Aug,Nov':2, 'Mar,Jun,Sept,Dec':3})"
   ]
  },
  {
   "cell_type": "code",
   "execution_count": 63,
   "metadata": {
    "collapsed": true
   },
   "outputs": [],
   "source": [
    "# Calculate time competition open time in months\n",
    "trainingData['CompetitionOpen'] = 12 * (trainingData.year - trainingData.CompetitionOpenSinceYear) + (trainingData.month - trainingData.CompetitionOpenSinceMonth)\n",
    "# Promo open time in month\n",
    "trainingData['PromoOpen'] = 12 * (trainingData.year - trainingData.Promo2SinceYear) + (trainingData.WeekOfYear - trainingData.Promo2SinceWeek) / 4.0\n"
   ]
  },
  {
   "cell_type": "code",
   "execution_count": 78,
   "metadata": {
    "collapsed": false
   },
   "outputs": [
    {
     "data": {
      "text/plain": [
       "Index([u'Store', u'DayOfWeek', u'Date', u'Sales', u'Customers', u'Open',\n",
       "       u'Promo', u'StateHoliday', u'SchoolHoliday', u'StoreType',\n",
       "       u'Assortment', u'CompetitionDistance', u'CompetitionOpenSinceMonth',\n",
       "       u'CompetitionOpenSinceYear', u'Promo2', u'Promo2SinceWeek',\n",
       "       u'Promo2SinceYear', u'PromoInterval', u'date', u'year', u'month',\n",
       "       u'WeekOfYear', u'CompetitionOpen', u'PromoOpen'],\n",
       "      dtype='object')"
      ]
     },
     "execution_count": 78,
     "metadata": {},
     "output_type": "execute_result"
    }
   ],
   "source": [
    "#Printing all the columns\n",
    "trainingData.columns"
   ]
  },
  {
   "cell_type": "code",
   "execution_count": 64,
   "metadata": {
    "collapsed": false
   },
   "outputs": [
    {
     "name": "stdout",
     "output_type": "stream",
     "text": [
      "3125.64751879\n"
     ]
    }
   ],
   "source": [
    "# Modeling using linear regression\n",
    "from sklearn.linear_model import LinearRegression\n",
    "\n",
    "feature_cols = ['CompetitionDistance', 'StoreType', 'Assortment','StateHoliday','Promo', 'Promo2', 'SchoolHoliday', 'DayOfWeek', 'month', 'WeekOfYear', 'CompetitionOpen', 'PromoOpen']\n",
    "\n",
    "X = trainingData[feature_cols]\n",
    "y = trainingData.Sales\n",
    "\n",
    "from sklearn.cross_validation import train_test_split\n",
    "X_train, X_test, y_train, y_test = train_test_split(X, y, random_state=1)\n",
    "lm = LinearRegression()\n",
    "lm.fit(X_train, y_train)\n",
    "\n",
    "# make predictions for testing set\n",
    "y_pred = lm.predict(X_test)\n",
    "\n",
    "from sklearn import metrics\n",
    "import numpy as np\n",
    "print np.sqrt(metrics.mean_squared_error(y_test, y_pred))\n"
   ]
  },
  {
   "cell_type": "code",
   "execution_count": 65,
   "metadata": {
    "collapsed": false
   },
   "outputs": [
    {
     "name": "stdout",
     "output_type": "stream",
     "text": [
      "[ -7396129.33150961  -7203988.59659587 -12219405.62699864\n",
      " -10410567.21131408 -12075003.71397908  -9674796.35897736\n",
      " -10502174.74912215 -11325189.56882767  -7482946.48855969\n",
      "  -9930833.11045724]\n",
      "3120.39367683\n"
     ]
    }
   ],
   "source": [
    "from sklearn.cross_validation import cross_val_score\n",
    "scores = cross_val_score(lm, X, y, cv=10, scoring='mean_squared_error')\n",
    "print scores\n",
    "mse_scores = -scores\n",
    "rmse_scores = np.sqrt(mse_scores).mean()\n",
    "print rmse_scores"
   ]
  },
  {
   "cell_type": "code",
   "execution_count": 66,
   "metadata": {
    "collapsed": false
   },
   "outputs": [
    {
     "name": "stdout",
     "output_type": "stream",
     "text": [
      "3849.92428284\n"
     ]
    }
   ],
   "source": [
    "#Obtaining Null RMSE\n",
    "# create a NumPy array with the same shape as y_test\n",
    "y_null = np.zeros_like(y, dtype=float)\n",
    "# fill the array with the mean value of y_test\n",
    "y_null.fill(y.mean())\n",
    "\n",
    "from sklearn import metrics\n",
    "# compute null RMSE\n",
    "print np.sqrt(metrics.mean_squared_error(y, y_null))"
   ]
  },
  {
   "cell_type": "code",
   "execution_count": 67,
   "metadata": {
    "collapsed": false
   },
   "outputs": [
    {
     "name": "stdout",
     "output_type": "stream",
     "text": [
      "3130.72527851\n"
     ]
    }
   ],
   "source": [
    "#Modeling using Ridge regression\n",
    "from sklearn.linear_model import Ridge\n",
    "# try alpha=0.1\n",
    "ridgereg = Ridge(alpha=0.1, normalize=True)\n",
    "ridgereg.fit(X_train, y_train)\n",
    "y_pred = ridgereg.predict(X_test)\n",
    "print np.sqrt(metrics.mean_squared_error(y_test, y_pred))"
   ]
  },
  {
   "cell_type": "code",
   "execution_count": 68,
   "metadata": {
    "collapsed": false
   },
   "outputs": [
    {
     "data": {
      "text/plain": [
       "array([  1.00000000e-02,   1.00000000e-01,   1.00000000e+00,\n",
       "         1.00000000e+01,   1.00000000e+02])"
      ]
     },
     "execution_count": 68,
     "metadata": {},
     "output_type": "execute_result"
    }
   ],
   "source": [
    "# create an array of alpha values\n",
    "alpha_range = 10.**np.arange(-2, 3)\n",
    "alpha_range"
   ]
  },
  {
   "cell_type": "code",
   "execution_count": 69,
   "metadata": {
    "collapsed": false
   },
   "outputs": [
    {
     "data": {
      "text/plain": [
       "0.01"
      ]
     },
     "execution_count": 69,
     "metadata": {},
     "output_type": "execute_result"
    }
   ],
   "source": [
    "# select the best alpha with RidgeCV\n",
    "from sklearn.linear_model import RidgeCV\n",
    "ridgeregcv = RidgeCV(alphas=alpha_range, normalize=True, scoring='mean_squared_error')\n",
    "ridgeregcv.fit(X_train, y_train)\n",
    "ridgeregcv.alpha_"
   ]
  },
  {
   "cell_type": "code",
   "execution_count": 70,
   "metadata": {
    "collapsed": false
   },
   "outputs": [
    {
     "name": "stdout",
     "output_type": "stream",
     "text": [
      "3125.74220601\n"
     ]
    }
   ],
   "source": [
    "# predict method uses the best alpha value\n",
    "y_pred = ridgeregcv.predict(X_test)\n",
    "print np.sqrt(metrics.mean_squared_error(y_test, y_pred))"
   ]
  },
  {
   "cell_type": "code",
   "execution_count": 71,
   "metadata": {
    "collapsed": false
   },
   "outputs": [
    {
     "name": "stdout",
     "output_type": "stream",
     "text": [
      "[ -2.21673485e-02  -6.13548759e+01   3.41410493e+02  -3.78337186e+03\n",
      "   2.47152784e+03  -9.76836574e+02   1.91667292e+02  -6.51816039e+02\n",
      "   8.38570447e-01   1.48955081e+01   2.49265534e-01   6.26646959e+00]\n",
      "3125.64803694\n"
     ]
    }
   ],
   "source": [
    "#Modeling using Lasso Regression\n",
    "# try alpha=0.001 and examine coefficients\n",
    "from sklearn.linear_model import Lasso\n",
    "lassoreg = Lasso(alpha=0.001, normalize=True)\n",
    "lassoreg.fit(X_train, y_train)\n",
    "print lassoreg.coef_\n",
    "y_pred = lassoreg.predict(X_test)\n",
    "print np.sqrt(metrics.mean_squared_error(y_test, y_pred))"
   ]
  },
  {
   "cell_type": "code",
   "execution_count": 72,
   "metadata": {
    "collapsed": false
   },
   "outputs": [
    {
     "name": "stdout",
     "output_type": "stream",
     "text": [
      "[ -2.07141551e-02  -5.42223409e+01   3.28212125e+02  -3.71609823e+03\n",
      "   2.46139583e+03  -9.06976189e+02   1.70383728e+02  -6.49593923e+02\n",
      "   0.00000000e+00   1.46746525e+01   1.42903038e-01   4.92476981e+00]\n"
     ]
    }
   ],
   "source": [
    "# try alpha=0.01 and examine coefficients\n",
    "lassoreg = Lasso(alpha=0.01, normalize=True)\n",
    "lassoreg.fit(X_train, y_train)\n",
    "print lassoreg.coef_"
   ]
  },
  {
   "cell_type": "code",
   "execution_count": 73,
   "metadata": {
    "collapsed": false
   },
   "outputs": [
    {
     "name": "stdout",
     "output_type": "stream",
     "text": [
      "3125.86080324\n"
     ]
    }
   ],
   "source": [
    "# calculate RMSE (for alpha=0.01)\n",
    "y_pred = lassoreg.predict(X_test)\n",
    "print np.sqrt(metrics.mean_squared_error(y_test, y_pred))"
   ]
  },
  {
   "cell_type": "code",
   "execution_count": 74,
   "metadata": {
    "collapsed": false
   },
   "outputs": [
    {
     "name": "stderr",
     "output_type": "stream",
     "text": [
      "C:\\Users\\Kruthika\\Anaconda\\lib\\site-packages\\sklearn\\linear_model\\base.py:424: FutureWarning: elementwise comparison failed; returning scalar instead, but in the future will perform elementwise comparison\n",
      "  if precompute == 'auto':\n"
     ]
    },
    {
     "data": {
      "text/plain": [
       "0.0020357109349942418"
      ]
     },
     "execution_count": 74,
     "metadata": {},
     "output_type": "execute_result"
    }
   ],
   "source": [
    "# select the best alpha with LassoCV\n",
    "from sklearn.linear_model import LassoCV\n",
    "lassoregcv = LassoCV(n_alphas=10, normalize=True, random_state=1)\n",
    "lassoregcv.fit(X_train, y_train)\n",
    "lassoregcv.alpha_"
   ]
  },
  {
   "cell_type": "code",
   "execution_count": 75,
   "metadata": {
    "collapsed": false
   },
   "outputs": [
    {
     "name": "stdout",
     "output_type": "stream",
     "text": [
      "[ -2.20001047e-02  -6.05340726e+01   3.39891658e+02  -3.77563721e+03\n",
      "   2.47035918e+03  -9.68794771e+02   1.89226850e+02  -6.51560262e+02\n",
      "   7.11627127e-01   1.48768722e+01   2.37026260e-01   6.11200090e+00]\n"
     ]
    }
   ],
   "source": [
    "# examine the coefficients\n",
    "print lassoregcv.coef_"
   ]
  },
  {
   "cell_type": "code",
   "execution_count": 76,
   "metadata": {
    "collapsed": false
   },
   "outputs": [
    {
     "name": "stdout",
     "output_type": "stream",
     "text": [
      "3125.65409932\n"
     ]
    }
   ],
   "source": [
    "# predict method uses the best alpha value\n",
    "y_pred = lassoregcv.predict(X_test)\n",
    "print np.sqrt(metrics.mean_squared_error(y_test, y_pred))"
   ]
  }
 ],
 "metadata": {
  "kernelspec": {
   "display_name": "Python 2",
   "language": "python",
   "name": "python2"
  },
  "language_info": {
   "codemirror_mode": {
    "name": "ipython",
    "version": 2
   },
   "file_extension": ".py",
   "mimetype": "text/x-python",
   "name": "python",
   "nbconvert_exporter": "python",
   "pygments_lexer": "ipython2",
   "version": "2.7.10"
  }
 },
 "nbformat": 4,
 "nbformat_minor": 0
}
